{
  "nbformat": 4,
  "nbformat_minor": 0,
  "metadata": {
    "colab": {
      "provenance": []
    },
    "kernelspec": {
      "name": "python3",
      "display_name": "Python 3"
    },
    "language_info": {
      "name": "python"
    }
  },
  "cells": [
    {
      "cell_type": "markdown",
      "source": [
        "# **THEORY **"
      ],
      "metadata": {
        "id": "ZBcRn1etxbEX"
      }
    },
    {
      "cell_type": "markdown",
      "source": [
        "1.  What is Object-Oriented Programming (OOP)?\n",
        "\n",
        "      - Object - Oriented Programming in python is a programming approach that focuses on using objects and classes to design and build applications.\n",
        "\n",
        "2. What is a class in OOP?\n",
        "\n",
        "       - A class is a blueprint or template used to create a objects.\n",
        "\n",
        "3. What is an object in OOP?\n",
        "       - An object is an instance of a class.\n",
        "\n",
        "4.  What is the difference between abstraction and encapsulation?\n",
        "\n",
        "       - The difference between abstraction and encapsulation are abstraction means to hides the unnecessary details and shows only important parts Whereas, encapsulation means to hides the data by wrapping it inside a class with methods.\n",
        "\n",
        "5. What are dunder methods in Python ?\n",
        "\n",
        "      - Dunder methods are the special methods in python that is start with the duble underscores: like this (__init___).\n",
        "\n",
        "6.  Explain the concept of inheritance in OOP.\n",
        "   \n",
        "      - Inheritance in oop means it is a feature in object-oriented programming (OOP) where a child class inherit the property and method from its parent class .\n",
        "\n",
        "7. What is polymorphism in OOP?\n",
        "\n",
        "       - Polymorphism allows the same function name to workn differently depending on the object calling it .\n",
        "\n",
        "8. How is encapsulation achieved in Python ?\n",
        "\n",
        "       - Encapsulation in python is achieved by hiding data using private or protected access modifiers , and by providing access through methods .\n",
        "\n",
        "9.  What is a constructor in Python ?\n",
        "     \n",
        "        - A constructor in python is a special method used to initialise an object when it is created.\n",
        "\n",
        "10 . What are class and static methods in Python ?\n",
        "\n",
        "      - Class methods means works with the class and always takes cls as a first arggument Whereas, static just a normal function inside a class and does not take any self or cls.\n",
        "\n",
        "11.  What is method overloading in Python?\n",
        "\n",
        "      - Overloading means using the same name for a function or operator but allowing it to behave differently based on the type or number of arguments .\n",
        "\n",
        "12.  What is method overriding in OOP ?\n",
        "    \n",
        "        - Overriding means redefining a method in a child class that is already defined in the parent class.\n",
        "\n",
        "13.  What is a property decorator in Python ?\n",
        "\n",
        "       - The property decorator allows you to access a method like a an attribute . It is used to get a value with custom logic, while hiding internal data.\n",
        "\n",
        "14.  Why is polymorphism important in OOP ?\n",
        "  \n",
        "        - Polymorphhism is important in Object-Oriented Programming (OOP) because it allows different classes to be treated through a common interface, making the code more flexible, extensible,and easier to maintain.\n",
        "\n",
        "15.  What is an abstract class in Python ?\n",
        "\n",
        "       - An abstract class in python is a class that cannnot be instantiated directly. it is designed to be a base class,and it defines a common interface for its subclassese.\n",
        "\n",
        "16.  What are the advantages of OOP ?\n",
        "\n",
        "       - The advantages of oop are :-\n",
        "\n",
        "       - Modularity\n",
        "       - Reusability\n",
        "       - Encapsulation\n",
        "       - Polymorphism\n",
        "       - Abstraction\n",
        "\n",
        "17. What is the difference between a class variable and an instance variable ?\n",
        "\n",
        "         - The difference between a class variable and an instance variable are class variable shared by all objects of the class Whereas, instance variable unique to each object .\n",
        "\n",
        "18.  What is multiple inheritance in Python?\n",
        "  \n",
        "      - Multiple inheritance is a feature in python where a class can inherit from more than one parent class.\n",
        "\n",
        "19.  Explain the purpose of ‘’__str__’ and ‘__repr__’ ‘ methods in Python ?\n",
        "\n",
        "       - The purpose of \"__str__\" and \"__repr__\" methods in python are \"__str__\" used to define a human-readable or user-friendly string representation of object Whereas, \"__repr__\" is used for a technical representation,usually for debugging.\n",
        "\n",
        "20.  What is the significance of the ‘super()’ function in Python ?\n",
        "\n",
        "      - The super() functiom in python is used to call methods from a parent inside a child class. it is most commonly usesd in inheritance to ensure the parent class is properly initialised or to reusee its methods.\n",
        "\n",
        "\n",
        "21.  What is the significance of the __del__ method in Python ?\n",
        "\n",
        "\n",
        "      -  The significance of the __del__ method in python is a special method called a destuctor . it is automatically delete the methods in the python .\n",
        "\n",
        "22.  What is the difference between @staticmethod and @classmethod in Python ?\n",
        "   \n",
        "         - The difference between @staticmethod and @classmethod in python are means @staticmethod is a method belongs to a class but does not operate on the class instance or class itself Whereas, @classmethod is a method that operate on the class itself , rather than an instance of the class .\n",
        "\n",
        "23. How does polymorphism work in Python with inheritance ?\n",
        "\n",
        "\n",
        "       - Polymorphism with inheritance in python allows objects of different classes to be treated as objects of a common superclass. it works through method overriding,where a child class provides a specific implementation of a method that is already defined in its parent class .\n",
        "\n",
        "24. What is method chaining in Python OOP ?\n",
        "\n",
        "     - Method chaining is a technique in object-oriented programming where multiple methods are called on the same object in a single line , one after another .\n",
        "\n",
        "25.  What is the purpose of the __call__ method in Python ?\n",
        "\n",
        "\n",
        "      - The purpose of the __call__ method in python means the dunder method allows an instance of a class to be called like a function ."
      ],
      "metadata": {
        "id": "6HVxx8LXxpSi"
      }
    },
    {
      "cell_type": "markdown",
      "source": [
        "## **PRACTICAL **"
      ],
      "metadata": {
        "id": "x089f0uf71BU"
      }
    },
    {
      "cell_type": "code",
      "execution_count": null,
      "metadata": {
        "id": "AwIVsBKsxM4e"
      },
      "outputs": [],
      "source": [
        "# 1. Create a parent class Animal with a method speak() that prints a generic message. Create a child class Dog that overrides the speak() method to print \"Bark!\".\n",
        "\n",
        "class Animal:\n",
        "  def speak(self):\n",
        "    print(\"Generic message\")\n",
        "\n",
        "class Dog(Animal):\n",
        "  def speak(self):\n",
        "    print(\"Bark!\")\n",
        "\n"
      ]
    },
    {
      "cell_type": "code",
      "source": [
        "dog = Dog()\n",
        "dog.speak()"
      ],
      "metadata": {
        "colab": {
          "base_uri": "https://localhost:8080/"
        },
        "id": "fwuSjR7fCdMv",
        "outputId": "3ca7aff9-edd5-4690-c919-e202a16a0c0f"
      },
      "execution_count": null,
      "outputs": [
        {
          "output_type": "stream",
          "name": "stdout",
          "text": [
            "Bark!\n"
          ]
        }
      ]
    },
    {
      "cell_type": "code",
      "source": [
        "# 2. Write a program to create an abstract class Shape with a method area(). Derive classes Circle and Rectangle from it and implement the area() method in both.\n",
        "\n",
        "from abc import ABC, abstractmethod\n",
        "\n",
        "class Shape(ABC):\n",
        "  @abstractmethod\n",
        "  def area(self):\n",
        "    pass\n",
        "\n",
        "class Circle(Shape):\n",
        "  def __init__(self, radius):\n",
        "    self.radius = radius\n",
        "\n",
        "  def area(self):\n",
        "    return 3.14 * self.radius * self.radius\n",
        "\n",
        "class Rectangle(Shape):\n",
        "  def __init__(self, length, width):\n",
        "    self.length = length\n",
        "    self.width = width\n",
        "\n",
        "  def area(self):\n",
        "    return self.length * self.width"
      ],
      "metadata": {
        "id": "h6BxzuK_Cf-f"
      },
      "execution_count": null,
      "outputs": []
    },
    {
      "cell_type": "code",
      "source": [
        "circle = Circle(6)\n",
        "Rectangle = Rectangle(6,2)"
      ],
      "metadata": {
        "id": "PTnii-gDEtD5"
      },
      "execution_count": null,
      "outputs": []
    },
    {
      "cell_type": "code",
      "source": [
        "circle.area()"
      ],
      "metadata": {
        "colab": {
          "base_uri": "https://localhost:8080/"
        },
        "id": "ZaEVEU0dFQBe",
        "outputId": "4e450978-4def-4ec8-caea-299dc434ebd4"
      },
      "execution_count": null,
      "outputs": [
        {
          "output_type": "execute_result",
          "data": {
            "text/plain": [
              "113.03999999999999"
            ]
          },
          "metadata": {},
          "execution_count": 12
        }
      ]
    },
    {
      "cell_type": "code",
      "source": [
        "Rectangle.area()"
      ],
      "metadata": {
        "colab": {
          "base_uri": "https://localhost:8080/"
        },
        "id": "L6uL7dxJFZXZ",
        "outputId": "a46a1c78-36d4-449d-b0bb-efb2ab00089c"
      },
      "execution_count": null,
      "outputs": [
        {
          "output_type": "execute_result",
          "data": {
            "text/plain": [
              "12"
            ]
          },
          "metadata": {},
          "execution_count": 13
        }
      ]
    },
    {
      "cell_type": "code",
      "source": [
        "# 3.  Implement a multi-level inheritance scenario where a class Vehicle has an attribute type. Derive a class Car and further derive a class ElectricCar that adds a battery attribute.\n",
        "\n",
        "class Vehicle:\n",
        "  def __init__(self, type):\n",
        "    self.type = type\n",
        "class Car(Vehicle):\n",
        "  def __init__(self, type, color):\n",
        "    self.type = type\n",
        "    self.color = color\n",
        "class ElectricCar(Car):\n",
        "  def __init__(self, type, color, battery):\n",
        "    self.battery = battery\n",
        "    self.color = color\n",
        "    self.type = type\n"
      ],
      "metadata": {
        "id": "WtXeFp6WFere"
      },
      "execution_count": null,
      "outputs": []
    },
    {
      "cell_type": "code",
      "source": [
        "obj1 = Vehicle(\"Car\")"
      ],
      "metadata": {
        "id": "lVBmSUqUCZiX"
      },
      "execution_count": null,
      "outputs": []
    },
    {
      "cell_type": "code",
      "source": [
        "obj.type"
      ],
      "metadata": {
        "colab": {
          "base_uri": "https://localhost:8080/",
          "height": 35
        },
        "id": "rP_PTn4WG9Iv",
        "outputId": "491e55d3-1f60-4e36-e96d-6ee3e8162bc7"
      },
      "execution_count": null,
      "outputs": [
        {
          "output_type": "execute_result",
          "data": {
            "text/plain": [
              "'Car'"
            ],
            "application/vnd.google.colaboratory.intrinsic+json": {
              "type": "string"
            }
          },
          "metadata": {},
          "execution_count": 57
        }
      ]
    },
    {
      "cell_type": "code",
      "source": [
        "obj2 = Car(\"Truck\", \"Red\")"
      ],
      "metadata": {
        "id": "xsPMJvNtHAtJ"
      },
      "execution_count": null,
      "outputs": []
    },
    {
      "cell_type": "code",
      "source": [
        "\n",
        "obj2.color"
      ],
      "metadata": {
        "colab": {
          "base_uri": "https://localhost:8080/",
          "height": 35
        },
        "id": "gJPCC7wJCCjx",
        "outputId": "c371ea39-b15e-40ce-9b7e-d0d8a76b9fd0"
      },
      "execution_count": null,
      "outputs": [
        {
          "output_type": "execute_result",
          "data": {
            "text/plain": [
              "'Red'"
            ],
            "application/vnd.google.colaboratory.intrinsic+json": {
              "type": "string"
            }
          },
          "metadata": {},
          "execution_count": 39
        }
      ]
    },
    {
      "cell_type": "code",
      "source": [
        "obj3 = ElectricCar(\"Car\", \"green\", \"5000\")"
      ],
      "metadata": {
        "id": "TR7Pdt4rHQb2"
      },
      "execution_count": null,
      "outputs": []
    },
    {
      "cell_type": "code",
      "source": [
        "obj3.battery"
      ],
      "metadata": {
        "colab": {
          "base_uri": "https://localhost:8080/",
          "height": 35
        },
        "id": "-uP6NmvuHWpW",
        "outputId": "7733c80b-242b-4d01-ae86-ae6a7fd0cbed"
      },
      "execution_count": null,
      "outputs": [
        {
          "output_type": "execute_result",
          "data": {
            "text/plain": [
              "'5000'"
            ],
            "application/vnd.google.colaboratory.intrinsic+json": {
              "type": "string"
            }
          },
          "metadata": {},
          "execution_count": 65
        }
      ]
    },
    {
      "cell_type": "code",
      "source": [
        "obj3.color\n"
      ],
      "metadata": {
        "colab": {
          "base_uri": "https://localhost:8080/",
          "height": 35
        },
        "id": "ECwhc8NVHY8N",
        "outputId": "634e3d12-0cbf-43a2-e25b-6f35c2262ebf"
      },
      "execution_count": null,
      "outputs": [
        {
          "output_type": "execute_result",
          "data": {
            "text/plain": [
              "'green'"
            ],
            "application/vnd.google.colaboratory.intrinsic+json": {
              "type": "string"
            }
          },
          "metadata": {},
          "execution_count": 67
        }
      ]
    },
    {
      "cell_type": "code",
      "source": [
        "obj3.type"
      ],
      "metadata": {
        "colab": {
          "base_uri": "https://localhost:8080/",
          "height": 35
        },
        "id": "_oBm9jiuIoKF",
        "outputId": "b05f30bd-7e2b-40b5-d162-642efe5c3f97"
      },
      "execution_count": null,
      "outputs": [
        {
          "output_type": "execute_result",
          "data": {
            "text/plain": [
              "'Car'"
            ],
            "application/vnd.google.colaboratory.intrinsic+json": {
              "type": "string"
            }
          },
          "metadata": {},
          "execution_count": 68
        }
      ]
    },
    {
      "cell_type": "code",
      "source": [
        "# 4.  Demonstrate polymorphism by creating a base class Bird with a method fly(). Create two derived classes Sparrow and Penguin that override the fly() method.\n",
        "\n",
        "class bird:\n",
        "  def fly (self):\n",
        "    print(\"The bird is flying\")\n",
        "\n",
        "class sparrow(bird):\n",
        "  def fly(self):\n",
        "    print(\"The sparrow is flying\")\n",
        "\n",
        "class penguin(bird):\n",
        "  def fly(self):\n",
        "    print(\"The penguin is not flying\")"
      ],
      "metadata": {
        "id": "UpVwvMBCIQk1"
      },
      "execution_count": null,
      "outputs": []
    },
    {
      "cell_type": "code",
      "source": [
        "animal = bird()\n",
        "animal.fly()\n"
      ],
      "metadata": {
        "colab": {
          "base_uri": "https://localhost:8080/"
        },
        "id": "FGu0vmPxLqqt",
        "outputId": "0b7accdc-144e-41c7-91f3-aac7d3c69b34"
      },
      "execution_count": null,
      "outputs": [
        {
          "output_type": "stream",
          "name": "stdout",
          "text": [
            "The bird is flying\n"
          ]
        }
      ]
    },
    {
      "cell_type": "code",
      "source": [
        "animal = sparrow()\n",
        "animal.fly()"
      ],
      "metadata": {
        "colab": {
          "base_uri": "https://localhost:8080/"
        },
        "id": "MY4hFaIZL-c8",
        "outputId": "d1e6a812-4bae-4bab-d86c-e88ea51daae7"
      },
      "execution_count": null,
      "outputs": [
        {
          "output_type": "stream",
          "name": "stdout",
          "text": [
            "The sparrow is flying\n"
          ]
        }
      ]
    },
    {
      "cell_type": "code",
      "source": [
        "animal = penguin()\n",
        "animal.fly()"
      ],
      "metadata": {
        "colab": {
          "base_uri": "https://localhost:8080/"
        },
        "id": "2rmeGjVkMGFE",
        "outputId": "96f61b9f-19fb-4b39-ba84-b17f247b63fb"
      },
      "execution_count": null,
      "outputs": [
        {
          "output_type": "stream",
          "name": "stdout",
          "text": [
            "The penguin is not flying\n"
          ]
        }
      ]
    },
    {
      "cell_type": "code",
      "source": [
        "# 5. Write a program to demonstrate encapsulation by creating a class BankAccount with private attributes balance and methods to deposit, withdraw, and check balance.\n",
        "\n",
        "class BankAccount:\n",
        "    def __init__(self, balance):\n",
        "        self.__balance = balance\n",
        "\n",
        "    def deposit(self, amount):\n",
        "        self.__balance = self.__balance + amount\n",
        "        print(f\"The balance is {self.__balance}\")\n",
        "\n",
        "    def withdraw(self, amount):\n",
        "        if amount <= self.__balance:\n",
        "            self.__balance = self.__balance - amount\n",
        "            print(f\"The balance is {self.__balance}\")\n",
        "        else:\n",
        "            print(\"Insufficient balance\")\n",
        "\n",
        "    def check_balance(self):\n",
        "        print(f\"The balance is {self.__balance}\")"
      ],
      "metadata": {
        "id": "jRqRNTQjMH_0"
      },
      "execution_count": null,
      "outputs": []
    },
    {
      "cell_type": "code",
      "source": [
        "bank = BankAccount(3000)"
      ],
      "metadata": {
        "id": "47VqfIchP25D"
      },
      "execution_count": null,
      "outputs": []
    },
    {
      "cell_type": "code",
      "source": [
        "bank.deposit(2000)"
      ],
      "metadata": {
        "colab": {
          "base_uri": "https://localhost:8080/"
        },
        "id": "s6QLtiUcP897",
        "outputId": "6f7efcf6-d169-467c-be40-18b69de3c7e3"
      },
      "execution_count": null,
      "outputs": [
        {
          "output_type": "stream",
          "name": "stdout",
          "text": [
            "The balance is 5000\n"
          ]
        }
      ]
    },
    {
      "cell_type": "code",
      "source": [
        "bank.withdraw(1000)"
      ],
      "metadata": {
        "colab": {
          "base_uri": "https://localhost:8080/"
        },
        "id": "5ytTRipxQATD",
        "outputId": "67f1eb6f-8fef-48d1-a307-f2f9577cab7f"
      },
      "execution_count": null,
      "outputs": [
        {
          "output_type": "stream",
          "name": "stdout",
          "text": [
            "The balance is 4000\n"
          ]
        }
      ]
    },
    {
      "cell_type": "code",
      "source": [
        "bank.check_balance()"
      ],
      "metadata": {
        "colab": {
          "base_uri": "https://localhost:8080/"
        },
        "id": "ps5iZ2b7QP_j",
        "outputId": "58b9c532-f526-4eaa-dd0e-b45dd36c54b6"
      },
      "execution_count": null,
      "outputs": [
        {
          "output_type": "stream",
          "name": "stdout",
          "text": [
            "The balance is 4000\n"
          ]
        }
      ]
    },
    {
      "cell_type": "code",
      "source": [
        "bank.check_balance()"
      ],
      "metadata": {
        "colab": {
          "base_uri": "https://localhost:8080/"
        },
        "id": "b4WutR-DQWr7",
        "outputId": "d342f1c4-43d8-4c5f-ce10-4c416a371aa2"
      },
      "execution_count": null,
      "outputs": [
        {
          "output_type": "stream",
          "name": "stdout",
          "text": [
            "The balance is 4000\n"
          ]
        }
      ]
    },
    {
      "cell_type": "code",
      "source": [
        "# 6. Demonstrate runtime polymorphism using a method play() in a base class Instrument. Derive classes Guitarand Piano that implement their own version of play().\n",
        "\n",
        "class Instrument:\n",
        "  def play(self):\n",
        "    print(\"The instrument is playing\")\n",
        "\n",
        "class Guitar(Instrument):\n",
        "  def play(self):\n",
        "    print(\"The guitar is playing\")\n",
        "\n",
        "class Piano(Instrument):\n",
        "  def play(self):\n",
        "    print(\"The piano is playing\")\n",
        "\n"
      ],
      "metadata": {
        "id": "PbHNArB4RyzS"
      },
      "execution_count": 2,
      "outputs": []
    },
    {
      "cell_type": "code",
      "source": [
        "instru = Instrument()\n",
        "instru.play()"
      ],
      "metadata": {
        "id": "52b-XtJmQOzb",
        "colab": {
          "base_uri": "https://localhost:8080/"
        },
        "outputId": "cb190c63-8542-42ba-c2cd-3b473cfa449f"
      },
      "execution_count": 3,
      "outputs": [
        {
          "output_type": "stream",
          "name": "stdout",
          "text": [
            "The instrument is playing\n"
          ]
        }
      ]
    },
    {
      "cell_type": "code",
      "source": [
        "instru = Guitar()\n",
        "instru.play()"
      ],
      "metadata": {
        "colab": {
          "base_uri": "https://localhost:8080/"
        },
        "id": "vvLJyDsZ0eMy",
        "outputId": "b8fc9945-433c-4487-a31b-5a0f8a4887eb"
      },
      "execution_count": 4,
      "outputs": [
        {
          "output_type": "stream",
          "name": "stdout",
          "text": [
            "The guitar is playing\n"
          ]
        }
      ]
    },
    {
      "cell_type": "code",
      "source": [
        "instru = Piano()\n",
        "instru.play()"
      ],
      "metadata": {
        "colab": {
          "base_uri": "https://localhost:8080/"
        },
        "id": "i7892_3v0hrC",
        "outputId": "10696826-67bd-4887-82d3-262480d5db22"
      },
      "execution_count": 5,
      "outputs": [
        {
          "output_type": "stream",
          "name": "stdout",
          "text": [
            "The piano is playing\n"
          ]
        }
      ]
    },
    {
      "cell_type": "code",
      "source": [
        "# 7. Create a class MathOperations with a class method add_numbers() to add two numbers and a static method subtract_numbers() to subtract two numbers\n",
        "\n",
        "class MathOperations:\n",
        "  @classmethod\n",
        "  def add_numbers(cls, a, b):\n",
        "    return a + b\n",
        "\n",
        "  @staticmethod\n",
        "  def subtract_numbers(a, b):\n",
        "    return a - b\n",
        "\n",
        "print(\"addition\", MathOperations.add_numbers(10,5))\n",
        "print(\"substraction\",MathOperations.subtract_numbers (20,10))"
      ],
      "metadata": {
        "colab": {
          "base_uri": "https://localhost:8080/"
        },
        "id": "ZF1NUDEH0jz6",
        "outputId": "d7bdc682-3ed9-467e-800d-2761277e4f0f"
      },
      "execution_count": 9,
      "outputs": [
        {
          "output_type": "stream",
          "name": "stdout",
          "text": [
            "addition 15\n",
            "substraction 10\n"
          ]
        }
      ]
    },
    {
      "cell_type": "code",
      "source": [
        "# 8. Implement a class Person with a class method to count the total number of persons created.\n",
        "\n",
        "class Person:\n",
        "  count = 0\n",
        "  def __init__(self, name, age):\n",
        "    self.name = name\n",
        "    self.age = age\n",
        "    Person.count = Person.count + 1"
      ],
      "metadata": {
        "id": "HS51Wn2r2Nbq"
      },
      "execution_count": 18,
      "outputs": []
    },
    {
      "cell_type": "code",
      "source": [
        "obj1 = Person(\"John\", 25)"
      ],
      "metadata": {
        "id": "3IOAXRJr3UDG"
      },
      "execution_count": 19,
      "outputs": []
    },
    {
      "cell_type": "code",
      "source": [
        "obj2 = Person(\"Jane\", 30)"
      ],
      "metadata": {
        "id": "Ro2muTEN3ayt"
      },
      "execution_count": 20,
      "outputs": []
    },
    {
      "cell_type": "code",
      "source": [
        "obj3 = Person(\"Bob\", 35)"
      ],
      "metadata": {
        "id": "ZCq_j2Qn3dIN"
      },
      "execution_count": 21,
      "outputs": []
    },
    {
      "cell_type": "code",
      "source": [
        "obj1.count"
      ],
      "metadata": {
        "colab": {
          "base_uri": "https://localhost:8080/"
        },
        "id": "7OrB1ZY13iGN",
        "outputId": "0c2d6342-ea54-46a0-b07a-dae188543289"
      },
      "execution_count": 22,
      "outputs": [
        {
          "output_type": "execute_result",
          "data": {
            "text/plain": [
              "3"
            ]
          },
          "metadata": {},
          "execution_count": 22
        }
      ]
    },
    {
      "cell_type": "code",
      "source": [
        "# 9. Write a class Fraction with attributes numerator and denominator. Override the str method to display the fraction as \"numerator/denominator\".\n",
        "\n",
        "class Fraction:\n",
        "  def __init__(self, numerator, denominator):\n",
        "    self.numerator = numerator\n",
        "    self.denominator = denominator\n",
        "\n",
        "  def __str__(self):\n",
        "    return f\"{self.numerator}/{self.denominator}\""
      ],
      "metadata": {
        "id": "2cDfapEZ3m4O"
      },
      "execution_count": 24,
      "outputs": []
    },
    {
      "cell_type": "code",
      "source": [
        "f1 = Fraction(1,2)"
      ],
      "metadata": {
        "id": "w6Fok1Aa5hOV"
      },
      "execution_count": 25,
      "outputs": []
    },
    {
      "cell_type": "code",
      "source": [
        "f1.denominator"
      ],
      "metadata": {
        "colab": {
          "base_uri": "https://localhost:8080/"
        },
        "id": "09WFweuC5scl",
        "outputId": "5f26840a-557f-4d66-ae39-5dfe65bdf2d5"
      },
      "execution_count": 26,
      "outputs": [
        {
          "output_type": "execute_result",
          "data": {
            "text/plain": [
              "2"
            ]
          },
          "metadata": {},
          "execution_count": 26
        }
      ]
    },
    {
      "cell_type": "code",
      "source": [
        "f1.numerator"
      ],
      "metadata": {
        "colab": {
          "base_uri": "https://localhost:8080/"
        },
        "id": "rz8lRHQD5urV",
        "outputId": "4b5643dc-7147-44de-fa7e-3afd29e4ae84"
      },
      "execution_count": 27,
      "outputs": [
        {
          "output_type": "execute_result",
          "data": {
            "text/plain": [
              "1"
            ]
          },
          "metadata": {},
          "execution_count": 27
        }
      ]
    },
    {
      "cell_type": "code",
      "source": [
        "# 10.. Demonstrate operator overloading by creating a class Vector and overriding the add method to add two vectors.\n",
        "\n",
        "class Vector:\n",
        "  def __init__(self, x, y):\n",
        "    self.x = x\n",
        "    self.y = y\n",
        "\n",
        "  def __add__(self, other):\n",
        "    return Vector(self.x + other.x, self.y + other.y)"
      ],
      "metadata": {
        "id": "Bscuv5kA3QVE"
      },
      "execution_count": 28,
      "outputs": []
    },
    {
      "cell_type": "code",
      "source": [
        "v1 = Vector(1,2)\n",
        "v2 = Vector(3,4)\n",
        "v3 = v1 + v2\n",
        "print(v3.x , v3.y)"
      ],
      "metadata": {
        "colab": {
          "base_uri": "https://localhost:8080/"
        },
        "id": "pKcmP2sQ2yZq",
        "outputId": "5c5cc4e2-b386-4ddf-934f-4ab719f8c6ff"
      },
      "execution_count": 37,
      "outputs": [
        {
          "output_type": "stream",
          "name": "stdout",
          "text": [
            "4 6\n"
          ]
        }
      ]
    },
    {
      "cell_type": "code",
      "source": [
        "# 11. Create a class Person with attributes name and age. Add a method greet() that prints \"Hello, my name is {name} and I am {age} years old.\"\n",
        "\n",
        "class person:\n",
        "  def __init__(self, name, age):\n",
        "    self.name = name\n",
        "    self.age = age\n",
        "\n",
        "  def greet(self):\n",
        "    print(f\"Hello, my name is {self.name} and I am {self.age} years old.\")"
      ],
      "metadata": {
        "id": "c4ok_CUC7QKe"
      },
      "execution_count": 39,
      "outputs": []
    },
    {
      "cell_type": "code",
      "source": [
        "person1 = person(\"John\", 25)"
      ],
      "metadata": {
        "id": "XjLHVbtY8KFX"
      },
      "execution_count": 40,
      "outputs": []
    },
    {
      "cell_type": "code",
      "source": [
        "person1.greet()"
      ],
      "metadata": {
        "colab": {
          "base_uri": "https://localhost:8080/"
        },
        "id": "EIsYXees8cX8",
        "outputId": "9b743929-be05-4e80-f42e-dce88f762fcc"
      },
      "execution_count": 41,
      "outputs": [
        {
          "output_type": "stream",
          "name": "stdout",
          "text": [
            "Hello, my name is John and I am 25 years old.\n"
          ]
        }
      ]
    },
    {
      "cell_type": "code",
      "source": [
        "person2 = person (\"Ravi\", 26)"
      ],
      "metadata": {
        "id": "hKAiQpZ88fzc"
      },
      "execution_count": 42,
      "outputs": []
    },
    {
      "cell_type": "code",
      "source": [
        "person2.greet()"
      ],
      "metadata": {
        "colab": {
          "base_uri": "https://localhost:8080/"
        },
        "id": "Kqk8HwGD8oh0",
        "outputId": "fa275573-8a7b-47ad-c694-1683a9ca4a85"
      },
      "execution_count": 43,
      "outputs": [
        {
          "output_type": "stream",
          "name": "stdout",
          "text": [
            "Hello, my name is Ravi and I am 26 years old.\n"
          ]
        }
      ]
    },
    {
      "cell_type": "code",
      "source": [
        "# 12.  Implement a class Student with attributes name and grades. Create a method average_grade() to compute the average of the grades\n",
        "\n",
        "class student:\n",
        "  def __init__(self, name, grades):\n",
        "    self.name = name\n",
        "    self.grades = grades\n",
        "\n",
        "  def average_grade(self):\n",
        "    return sum(self.grades) / len(self.grades)"
      ],
      "metadata": {
        "id": "cny7Tf1Z8rBC"
      },
      "execution_count": 45,
      "outputs": []
    },
    {
      "cell_type": "code",
      "source": [
        "student = student(\"Ravi\", [90,80,70,60])"
      ],
      "metadata": {
        "id": "-miM02TY9LvO"
      },
      "execution_count": 46,
      "outputs": []
    },
    {
      "cell_type": "code",
      "source": [
        "student.average_grade()"
      ],
      "metadata": {
        "colab": {
          "base_uri": "https://localhost:8080/"
        },
        "id": "eUOlXP_t9QYn",
        "outputId": "3c05fec8-8938-40b1-f57f-fd98176c919b"
      },
      "execution_count": 47,
      "outputs": [
        {
          "output_type": "execute_result",
          "data": {
            "text/plain": [
              "75.0"
            ]
          },
          "metadata": {},
          "execution_count": 47
        }
      ]
    },
    {
      "cell_type": "code",
      "source": [
        "# 13. . Create a class Rectangle with methods set_dimensions() to set the dimensions and area() to calculate the area.\n",
        "\n",
        "class Rectangle:\n",
        "\n",
        "  def set_dimensions(self, length, width):\n",
        "    self.length = length\n",
        "    self.width = width\n",
        "\n",
        "  def area(self):\n",
        "    return self.length * self.width"
      ],
      "metadata": {
        "id": "FF5ykybg9TPO"
      },
      "execution_count": 48,
      "outputs": []
    },
    {
      "cell_type": "code",
      "source": [
        "Rect = Rectangle()"
      ],
      "metadata": {
        "id": "KgdyRzMB9J2m"
      },
      "execution_count": 55,
      "outputs": []
    },
    {
      "cell_type": "code",
      "source": [
        "Rect.set_dimensions(6,5)"
      ],
      "metadata": {
        "id": "YbxW89VI-63y"
      },
      "execution_count": 56,
      "outputs": []
    },
    {
      "cell_type": "code",
      "source": [
        "Rect.area()"
      ],
      "metadata": {
        "colab": {
          "base_uri": "https://localhost:8080/"
        },
        "id": "PLYOhqaH-9mO",
        "outputId": "187911ee-3838-4f8d-e42e-461fe9fea7b6"
      },
      "execution_count": 57,
      "outputs": [
        {
          "output_type": "execute_result",
          "data": {
            "text/plain": [
              "30"
            ]
          },
          "metadata": {},
          "execution_count": 57
        }
      ]
    },
    {
      "cell_type": "code",
      "source": [
        "# 14.  Create a class Employee with a method calculate_salary() that computes the salary based on hours worked and hourly rate. Create a derived class Manager that adds a bonus to the salary.\n",
        "\n",
        "class Employee:\n",
        "  def __init__(self, name, hours_worked, hourly_rate):\n",
        "    self.name = name\n",
        "    self.hours_worked = hours_worked\n",
        "    self.hourly_rate = hourly_rate\n",
        "\n",
        "  def calculate_salary(self):\n",
        "    return self.hours_worked * self.hourly_rate\n",
        "\n",
        "class Manager(Employee):\n",
        "  def __init__(self, name, hours_worked, hourly_rate, bonus):\n",
        "    super().__init__(name, hours_worked, hourly_rate)\n",
        "    self.bonus = bonus\n",
        "\n",
        "  def calculate_salary(self):\n",
        "    return super().calculate_salary() + self.bonus\n",
        "\n",
        "\n",
        "\n"
      ],
      "metadata": {
        "id": "-fjVJidq_F1m"
      },
      "execution_count": 64,
      "outputs": []
    },
    {
      "cell_type": "code",
      "source": [
        "emp = Employee(\"Ravi\", 40, 10)"
      ],
      "metadata": {
        "id": "yTWGixNeEnp2"
      },
      "execution_count": 65,
      "outputs": []
    },
    {
      "cell_type": "code",
      "source": [
        "emp.calculate_salary()"
      ],
      "metadata": {
        "colab": {
          "base_uri": "https://localhost:8080/"
        },
        "id": "p4BG7JeVEs8O",
        "outputId": "e6f397b5-bda5-49fe-c301-b96771d412ec"
      },
      "execution_count": 66,
      "outputs": [
        {
          "output_type": "execute_result",
          "data": {
            "text/plain": [
              "400"
            ]
          },
          "metadata": {},
          "execution_count": 66
        }
      ]
    },
    {
      "cell_type": "code",
      "source": [
        "emp1 = Manager(\"Ravi\", 40, 10, 1000)"
      ],
      "metadata": {
        "id": "Hh_ejopiFTPe"
      },
      "execution_count": 67,
      "outputs": []
    },
    {
      "cell_type": "code",
      "source": [
        "emp1.calculate_salary()"
      ],
      "metadata": {
        "colab": {
          "base_uri": "https://localhost:8080/"
        },
        "id": "a0z24QFBFjeu",
        "outputId": "6a3b2be3-bb0d-4832-8413-c27da47bbf72"
      },
      "execution_count": 68,
      "outputs": [
        {
          "output_type": "execute_result",
          "data": {
            "text/plain": [
              "1400"
            ]
          },
          "metadata": {},
          "execution_count": 68
        }
      ]
    },
    {
      "cell_type": "code",
      "source": [
        "# 15.  Create a class Product with attributes name, price, and quantity. Implement a method total_price() that calculates the total price of the product.\n",
        "\n",
        "class Product:\n",
        "  def __init__(self, name, price, quantity):\n",
        "    self.name = name\n",
        "    self.price = price\n",
        "    self.quantity = quantity\n",
        "\n",
        "  def total_price(self):\n",
        "    return self.price * self.quantity"
      ],
      "metadata": {
        "id": "cQ-DFedPFl2O"
      },
      "execution_count": 69,
      "outputs": []
    },
    {
      "cell_type": "code",
      "source": [
        "product1 = Product (\"Apple\", 180, 2)"
      ],
      "metadata": {
        "id": "Mwhcj0Y7F0Ce"
      },
      "execution_count": 73,
      "outputs": []
    },
    {
      "cell_type": "code",
      "source": [
        "product1.total_price()"
      ],
      "metadata": {
        "colab": {
          "base_uri": "https://localhost:8080/"
        },
        "id": "LroYr8K-F6e2",
        "outputId": "ec10415a-1052-4072-e856-32299b3c2b24"
      },
      "execution_count": 74,
      "outputs": [
        {
          "output_type": "execute_result",
          "data": {
            "text/plain": [
              "360"
            ]
          },
          "metadata": {},
          "execution_count": 74
        }
      ]
    },
    {
      "cell_type": "code",
      "source": [
        "# 16. Create a class Animal with an abstract method sound(). Create two derived classes Cow and Sheep that implement the sound() method\n",
        "\n",
        "from abc import ABC, abstractmethod\n",
        "\n",
        "class Animal(ABC):\n",
        "  @abstractmethod\n",
        "  def sound(self):\n",
        "    pass\n",
        "\n",
        "class Cow(Animal):\n",
        "  def sound(self):\n",
        "    print(\"Moo\")\n",
        "\n",
        "class Sheep(Animal):\n",
        "  def sound(self):\n",
        "    print(\"Baa\")"
      ],
      "metadata": {
        "id": "zO7hVkAIGAj2"
      },
      "execution_count": 90,
      "outputs": []
    },
    {
      "cell_type": "code",
      "source": [
        "animal1 = Cow()"
      ],
      "metadata": {
        "id": "yI6ZBPhCIid1"
      },
      "execution_count": 93,
      "outputs": []
    },
    {
      "cell_type": "code",
      "source": [
        "animal1.sound()"
      ],
      "metadata": {
        "colab": {
          "base_uri": "https://localhost:8080/"
        },
        "id": "EnJl7kTWIsMG",
        "outputId": "ce8ea917-a1b7-41d3-c8ee-9d6ca4131025"
      },
      "execution_count": 94,
      "outputs": [
        {
          "output_type": "stream",
          "name": "stdout",
          "text": [
            "Moo\n"
          ]
        }
      ]
    },
    {
      "cell_type": "code",
      "source": [
        "animal2 = Sheep()"
      ],
      "metadata": {
        "id": "_KkSF9erIvqF"
      },
      "execution_count": 95,
      "outputs": []
    },
    {
      "cell_type": "code",
      "source": [
        "animal2.sound()"
      ],
      "metadata": {
        "colab": {
          "base_uri": "https://localhost:8080/"
        },
        "id": "BjVHw8k6IyVV",
        "outputId": "e5d2601b-810c-4c84-cc9a-d46d74cefb89"
      },
      "execution_count": 96,
      "outputs": [
        {
          "output_type": "stream",
          "name": "stdout",
          "text": [
            "Baa\n"
          ]
        }
      ]
    },
    {
      "cell_type": "code",
      "source": [
        "# 17. Create a class Book with attributes title, author, and year_published. Add a method get_book_info() that returns a formatted string with the book's details.\n",
        "\n",
        "class Book:\n",
        "  def __init__(self, title, author, year_published):\n",
        "    self.title = title\n",
        "    self.author = author\n",
        "    self.year_published = year_published\n",
        "\n",
        "  def get_book_info(self):\n",
        "    return f\"Title: {self.title}, Author: {self.author}, Year: {self.year_published}\""
      ],
      "metadata": {
        "id": "J1YJyWDdI0Ot"
      },
      "execution_count": 104,
      "outputs": []
    },
    {
      "cell_type": "code",
      "source": [
        "book1 = Book(\"The Alchemist\", \"Paulo Coelho\", 1988)"
      ],
      "metadata": {
        "id": "Sa9U_sfBJM6N"
      },
      "execution_count": 105,
      "outputs": []
    },
    {
      "cell_type": "code",
      "source": [
        "book1.get_book_info()"
      ],
      "metadata": {
        "colab": {
          "base_uri": "https://localhost:8080/",
          "height": 35
        },
        "id": "wQO-spIdJs-O",
        "outputId": "6e12036a-e6c0-4151-f9a0-f31268c63be0"
      },
      "execution_count": 106,
      "outputs": [
        {
          "output_type": "execute_result",
          "data": {
            "text/plain": [
              "'Title: The Alchemist, Author: Paulo Coelho, Year: 1988'"
            ],
            "application/vnd.google.colaboratory.intrinsic+json": {
              "type": "string"
            }
          },
          "metadata": {},
          "execution_count": 106
        }
      ]
    },
    {
      "cell_type": "code",
      "source": [
        "book1.author"
      ],
      "metadata": {
        "colab": {
          "base_uri": "https://localhost:8080/",
          "height": 35
        },
        "id": "QXnXO4qfK8aF",
        "outputId": "14e0c8dc-f160-4d9d-e16a-afe88a2e573c"
      },
      "execution_count": 107,
      "outputs": [
        {
          "output_type": "execute_result",
          "data": {
            "text/plain": [
              "'Paulo Coelho'"
            ],
            "application/vnd.google.colaboratory.intrinsic+json": {
              "type": "string"
            }
          },
          "metadata": {},
          "execution_count": 107
        }
      ]
    },
    {
      "cell_type": "code",
      "source": [
        "book1.title"
      ],
      "metadata": {
        "colab": {
          "base_uri": "https://localhost:8080/",
          "height": 35
        },
        "id": "NDiwuxZBLBYt",
        "outputId": "4c47f849-5f4d-4cd6-c434-2ec41f56c302"
      },
      "execution_count": 108,
      "outputs": [
        {
          "output_type": "execute_result",
          "data": {
            "text/plain": [
              "'The Alchemist'"
            ],
            "application/vnd.google.colaboratory.intrinsic+json": {
              "type": "string"
            }
          },
          "metadata": {},
          "execution_count": 108
        }
      ]
    },
    {
      "cell_type": "code",
      "source": [
        "book1.year_published"
      ],
      "metadata": {
        "colab": {
          "base_uri": "https://localhost:8080/"
        },
        "id": "y3jZ30WXLFEk",
        "outputId": "099814e9-d3d8-440c-97e3-54f8e7bd744f"
      },
      "execution_count": 109,
      "outputs": [
        {
          "output_type": "execute_result",
          "data": {
            "text/plain": [
              "1988"
            ]
          },
          "metadata": {},
          "execution_count": 109
        }
      ]
    },
    {
      "cell_type": "code",
      "source": [],
      "metadata": {
        "id": "MReL8tu9LW_l"
      },
      "execution_count": null,
      "outputs": []
    },
    {
      "cell_type": "code",
      "source": [],
      "metadata": {
        "id": "7sRFnOq6JjU9"
      },
      "execution_count": null,
      "outputs": []
    },
    {
      "cell_type": "code",
      "source": [],
      "metadata": {
        "id": "2KNAeZRiImP3"
      },
      "execution_count": null,
      "outputs": []
    },
    {
      "cell_type": "code",
      "source": [],
      "metadata": {
        "id": "aZagmFfRFK4n"
      },
      "execution_count": null,
      "outputs": []
    },
    {
      "cell_type": "code",
      "source": [],
      "metadata": {
        "id": "33RKxE7NFHm-"
      },
      "execution_count": null,
      "outputs": []
    },
    {
      "cell_type": "code",
      "source": [],
      "metadata": {
        "id": "hMOPxctb7KdI"
      },
      "execution_count": null,
      "outputs": []
    },
    {
      "cell_type": "code",
      "source": [],
      "metadata": {
        "id": "S4DM9HxxHoeF"
      },
      "execution_count": null,
      "outputs": []
    },
    {
      "cell_type": "code",
      "source": [],
      "metadata": {
        "id": "AjBHQvwyHdZF"
      },
      "execution_count": null,
      "outputs": []
    },
    {
      "cell_type": "code",
      "source": [],
      "metadata": {
        "id": "UspwHmVRHNLG"
      },
      "execution_count": null,
      "outputs": []
    },
    {
      "cell_type": "code",
      "source": [],
      "metadata": {
        "id": "xpFDgddVB15L"
      },
      "execution_count": null,
      "outputs": []
    },
    {
      "cell_type": "code",
      "source": [],
      "metadata": {
        "id": "9hR48yz-B2BU"
      },
      "execution_count": null,
      "outputs": []
    },
    {
      "cell_type": "code",
      "source": [],
      "metadata": {
        "id": "JAlETUL5B2D8"
      },
      "execution_count": null,
      "outputs": []
    }
  ]
}